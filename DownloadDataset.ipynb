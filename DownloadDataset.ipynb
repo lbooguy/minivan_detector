{
 "cells": [
  {
   "cell_type": "code",
   "execution_count": 8,
   "metadata": {
    "collapsed": true
   },
   "outputs": [
    {
     "name": "stderr",
     "output_type": "stream",
     "text": [
      "2023-12-25  01:14:27 INFO Downloading 2000 train images for class 'van'\n",
      "100%|██████████| 2000/2000 [03:36<00:00,  9.25it/s]\n",
      "2023-12-25  01:18:04 INFO Creating 2000 train annotations (pascal) for class 'van'\n",
      "100%|██████████| 2000/2000 [00:03<00:00, 624.14it/s] \n"
     ]
    },
    {
     "data": {
      "text/plain": "{'van': {'images_dir': 'C:/Users/USER/PycharmProjects/UniWork/MinivanDetection/Dataset\\\\van\\\\images',\n  'annotations_dir': 'C:/Users/USER/PycharmProjects/UniWork/MinivanDetection/Dataset\\\\van\\\\pascal'}}"
     },
     "execution_count": 8,
     "metadata": {},
     "output_type": "execute_result"
    }
   ],
   "source": [
    "import fiftyone\n",
    "from openimages.download import download_images, download_dataset\n",
    "\n",
    "#image_list = download_annotations(label_filter=[\"minivan\"])\n",
    "#download_images(\"/Dataset\", [\"minivan\"])\n",
    "#download_dataset(\"C:/Users/USER/PycharmProjects/UniWork/MinivanDetection/Dataset\", [\"minivan\"], annotation_format=\"pascal\")\n",
    "download_dataset('C:/Users/USER/PycharmProjects/UniWork/MinivanDetection/Dataset', class_labels=['Van'], annotation_format=\"pascal\", csv_dir= 'C:/Users/USER/PycharmProjects/UniWork/MinivanDetection/Dataset/annotations', limit=2000)\n",
    "\n",
    "\n",
    "# import fiftyone as fo\n",
    "# import fiftyone.zoo as foz\n",
    "#\n",
    "# dataset = fiftyone.zoo.load_zoo_dataset(\"open-images-v7\", split=\"train\")\n",
    "# dataset = fiftyone.zoo.load_zoo_dataset(\n",
    "#               \"open-images-v7\",\n",
    "#               split=\"validation\",\n",
    "#               label_types=[\"detections\", \"segmentations\"],\n",
    "#               classes=[\"Minivan\"],\n",
    "#               max_samples=100,\n",
    "#           )\n"
   ]
  },
  {
   "cell_type": "code",
   "execution_count": null,
   "outputs": [],
   "source": [],
   "metadata": {
    "collapsed": false
   }
  }
 ],
 "metadata": {
  "kernelspec": {
   "display_name": "Python 3",
   "language": "python",
   "name": "python3"
  },
  "language_info": {
   "codemirror_mode": {
    "name": "ipython",
    "version": 2
   },
   "file_extension": ".py",
   "mimetype": "text/x-python",
   "name": "python",
   "nbconvert_exporter": "python",
   "pygments_lexer": "ipython2",
   "version": "2.7.6"
  }
 },
 "nbformat": 4,
 "nbformat_minor": 0
}
